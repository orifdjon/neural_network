{
 "cells": [
  {
   "cell_type": "code",
   "execution_count": 1,
   "metadata": {},
   "outputs": [],
   "source": [
    "import pandas as pd\n",
    "import numpy as np\n",
    "import torch\n",
    "import torch.nn as nn\n",
    "import torch.nn.functional as F\n",
    "import torch.optim as optim\n",
    "from torch.utils.data import Dataset, DataLoader\n",
    "import matplotlib.pylab as plt"
   ]
  },
  {
   "cell_type": "code",
   "execution_count": 2,
   "metadata": {},
   "outputs": [],
   "source": [
    "dataset = pd.read_csv(filepath_or_buffer='../all_data.csv', index_col=0)\n",
    "FEATURES_INDEX = np.arange(2)\n",
    "LABELS_INDEX = 2\n",
    "BATCH_SIZE = int(0.6*len(dataset))\n",
    "LOSS_THRESHOLD = 1e-6\n",
    "dataset.head()\n",
    "dataset=np.array(dataset)"
   ]
  },
  {
   "cell_type": "code",
   "execution_count": 3,
   "metadata": {},
   "outputs": [
    {
     "data": {
      "text/plain": [
       "7775"
      ]
     },
     "execution_count": 3,
     "metadata": {},
     "output_type": "execute_result"
    }
   ],
   "source": [
    "learn_dataset = dataset[0: int(0.6*len(dataset))]\n",
    "valid_dataset = dataset[int(0.6*len(dataset)): int(0.9*len(dataset))]\n",
    "test_dataset = dataset[int(0.9*len(dataset)): len(dataset)]\n",
    "len(dataset)"
   ]
  },
  {
   "cell_type": "code",
   "execution_count": 4,
   "metadata": {},
   "outputs": [],
   "source": [
    "learn_dataset = np.array(learn_dataset)\n",
    "valid_dataset = np.array(valid_dataset)\n",
    "test_dataset = np.array(test_dataset)"
   ]
  },
  {
   "cell_type": "code",
   "execution_count": 5,
   "metadata": {},
   "outputs": [],
   "source": [
    "learn_dataloader = DataLoader(learn_dataset, batch_size=BATCH_SIZE, shuffle=False)\n",
    "valid_dataloader = DataLoader(valid_dataset, batch_size=len(valid_dataset), shuffle=False)\n",
    "test_dataloader = DataLoader(test_dataset, batch_size=len(test_dataset), shuffle=False)"
   ]
  },
  {
   "cell_type": "code",
   "execution_count": 6,
   "metadata": {},
   "outputs": [
    {
     "data": {
      "text/plain": [
       "Net(\n",
       "  (lin1): Linear(in_features=2, out_features=10, bias=True)\n",
       "  (lin2): Linear(in_features=10, out_features=10, bias=True)\n",
       "  (lin3): Linear(in_features=10, out_features=5, bias=True)\n",
       "  (lin4): Linear(in_features=5, out_features=1, bias=True)\n",
       ")"
      ]
     },
     "execution_count": 6,
     "metadata": {},
     "output_type": "execute_result"
    }
   ],
   "source": [
    "class Net(nn.Module):\n",
    "    def __init__(self):\n",
    "        super(Net, self).__init__()\n",
    "        self.lin1 = nn.Linear(2, 10)\n",
    "        self.lin2 = nn.Linear(10, 10)\n",
    "        self.lin3 = nn.Linear(10, 5)\n",
    "        self.lin4 = nn.Linear(5, 1)\n",
    "\n",
    "    def forward(self, x):\n",
    "        x = F.tanh(self.lin1(x))\n",
    "        x = F.tanh(self.lin2(x))\n",
    "        x = F.tanh(self.lin3(x))\n",
    "        x = self.lin4(x)\n",
    "        return x\n",
    "\n",
    "net = Net()\n",
    "net"
   ]
  },
  {
   "cell_type": "code",
   "execution_count": 7,
   "metadata": {},
   "outputs": [],
   "source": [
    "is_load = False\n",
    "if is_load:\n",
    "    net.load_state_dict(torch.load('adagrad/net_params.pkl'))"
   ]
  },
  {
   "cell_type": "code",
   "execution_count": 8,
   "metadata": {},
   "outputs": [
    {
     "name": "stdout",
     "output_type": "stream",
     "text": [
      "torch.Size([10, 2])\n",
      "torch.Size([10])\n",
      "torch.Size([10, 10])\n",
      "torch.Size([10])\n",
      "torch.Size([5, 10])\n",
      "torch.Size([5])\n",
      "torch.Size([1, 5])\n",
      "torch.Size([1])\n",
      "tensor([ 0.8056, -0.3722, -0.4594, -0.7103,  0.1163,  0.4636,  0.3622,\n",
      "         0.8127,  0.2758, -0.4229])\n"
     ]
    }
   ],
   "source": [
    "#Инициализация весов\n",
    "STD = [(2/(10+1+1))**(1/2), (2/(10+10+1))**(1/2), (32/(5+10+1))**(1/2), (32/(5+1+1))**(1/2)]\n",
    "null_weigth = []\n",
    "STD.reverse()\n",
    "\n",
    "def get_weights(layer):\n",
    "    if (type(layer) == nn.Linear):\n",
    "        cur_std = STD.pop()\n",
    "        null_weigth.append(torch.randn(layer.weight.data.shape)*cur_std)\n",
    "        null_weigth.append(torch.randn(layer.bias.data.shape)*cur_std)\n",
    "\n",
    "net.apply(get_weights)\n",
    "for k in null_weigth:\n",
    "    print(k.shape)\n",
    "print(null_weigth[1])\n",
    "null_weigth.reverse()"
   ]
  },
  {
   "cell_type": "code",
   "execution_count": 9,
   "metadata": {},
   "outputs": [
    {
     "data": {
      "text/plain": [
       "Parameter containing:\n",
       "tensor([ 0.8056, -0.3722, -0.4594, -0.7103,  0.1163,  0.4636,  0.3622,\n",
       "         0.8127,  0.2758, -0.4229])"
      ]
     },
     "execution_count": 9,
     "metadata": {},
     "output_type": "execute_result"
    }
   ],
   "source": [
    "tmp_null_weigth = list(null_weigth)\n",
    "\n",
    "def init_weigths(layer):\n",
    "    if(type(layer) == nn.Linear):\n",
    "        layer.weight.data = (tmp_null_weigth.pop()).clone()\n",
    "        layer.bias.data = (tmp_null_weigth.pop()).clone()\n",
    "        \n",
    "net.apply(init_weigths)\n",
    "net.lin1.bias"
   ]
  },
  {
   "cell_type": "code",
   "execution_count": 10,
   "metadata": {},
   "outputs": [],
   "source": [
    "criterion = nn.MSELoss(size_average=True)\n",
    "lr = 0.001"
   ]
  },
  {
   "cell_type": "code",
   "execution_count": 11,
   "metadata": {},
   "outputs": [
    {
     "data": {
      "text/plain": [
       "tensor(0.)"
      ]
     },
     "execution_count": 11,
     "metadata": {},
     "output_type": "execute_result"
    }
   ],
   "source": [
    "sss = torch.zeros((5,5))\n",
    "asd = [2,2]\n",
    "sss[2,2]"
   ]
  },
  {
   "cell_type": "code",
   "execution_count": 12,
   "metadata": {},
   "outputs": [],
   "source": [
    "def get_lr(state, lr):\n",
    "    tmp = state['sum']\n",
    "    tmp = lr*torch.rsqrt(tmp.add_(1e-10))\n",
    "    return tmp"
   ]
  },
  {
   "cell_type": "code",
   "execution_count": null,
   "metadata": {},
   "outputs": [],
   "source": []
  },
  {
   "cell_type": "code",
   "execution_count": 24,
   "metadata": {},
   "outputs": [
    {
     "name": "stdout",
     "output_type": "stream",
     "text": [
      "CPU times: user 4min 10s, sys: 3.42 s, total: 4min 13s\n",
      "Wall time: 3min 23s\n"
     ]
    }
   ],
   "source": [
    "%%time\n",
    "optimizer = optim.Adagrad(net.parameters(), lr=lr)\n",
    "state = optimizer.state\n",
    "\n",
    "tmp_null_weigth = list(null_weigth)\n",
    "net.apply(init_weigths)\n",
    "\n",
    "learn_epoch_loss = []\n",
    "valid_epoch_loss = []\n",
    "test_epoch_loss = []\n",
    "epoch_list = []\n",
    "\n",
    "lr_l1 = []\n",
    "lr_l2 = []\n",
    "lr_l3 = []\n",
    "lr_l4 = []\n",
    "\n",
    "lr_mean = []\n",
    "lr_min = []\n",
    "lr_max = []\n",
    "\n",
    "for epoch in range(5*10**3):\n",
    "    loss_acc = []\n",
    "    min_acc = 1000\n",
    "    max_acc = -1000\n",
    "    mean_acc = 0\n",
    "    \n",
    "    for learn_data in learn_dataloader:\n",
    "        optimizer.zero_grad()\n",
    "        features, labels = learn_data[:, FEATURES_INDEX].float(), learn_data[:, LABELS_INDEX].float()\n",
    "        features.requres_grad = True\n",
    "        labels.requres_grad = True\n",
    "        outputs = net(features).squeeze()\n",
    "        loss = criterion(outputs, labels)\n",
    "        loss.backward()\n",
    "        optimizer.step()\n",
    "        loss_acc.append(float(loss.data))\n",
    "    learn_epoch_loss.append(np.mean(loss_acc))\n",
    "\n",
    "    #критерий останова\n",
    "    if (epoch > 10) and (abs(learn_epoch_loss[len(learn_epoch_loss) - 1] - learn_epoch_loss[len(learn_epoch_loss) - 2]) < LOSS_THRESHOLD):\n",
    "            print(learn_epoch_loss[len(learn_epoch_loss) - 1] - learn_epoch_loss[len(learn_epoch_loss) - 2])\n",
    "            print('lr: ', lr, ' breaked on epoch: ', epoch, '\\n')\n",
    "            break\n",
    "\n",
    "    if epoch % 10 == 0:\n",
    "        epoch_list.append(epoch)\n",
    "        for valid_data in valid_dataloader:\n",
    "            features, labels = valid_data[:, FEATURES_INDEX].float(), valid_data[:, LABELS_INDEX].float()\n",
    "            outputs = net(features).squeeze()\n",
    "            loss = criterion(outputs, labels)\n",
    "            valid_epoch_loss.append(float(loss.data))\n",
    "\n",
    "        for test_data in valid_dataloader:\n",
    "            features, labels = test_data[:, FEATURES_INDEX].float(), test_data[:, LABELS_INDEX].float()\n",
    "            outputs = net(features).squeeze()\n",
    "            loss = criterion(outputs, labels)\n",
    "            test_epoch_loss.append(float(loss.data))\n",
    "            \n",
    "        state_values = list(state.values())\n",
    "        for k in range(len(state_values)):\n",
    "            g_matrix = get_lr(state_values[k], lr)\n",
    "            mean_acc += float(torch.mean(g_matrix))\n",
    "            max_acc = max(max_acc, float(torch.max(g_matrix)))\n",
    "            min_acc = min(min_acc, float(torch.min(g_matrix)))\n",
    "        lr_max.append(max_acc)\n",
    "        lr_mean.append(mean_acc/len(state_values))\n",
    "        lr_min.append(min_acc)\n",
    "        \n",
    "        g_matrix = get_lr(state_values[0], lr)\n",
    "        lr_l1.append(float(g_matrix[0, 0]))\n",
    "        \n",
    "        g_matrix = get_lr(state_values[2], lr)\n",
    "        lr_l2.append(float(g_matrix[0, 0]))\n",
    "        \n",
    "        g_matrix = get_lr(state_values[4], lr)\n",
    "        lr_l3.append(float(g_matrix[0, 0]))\n",
    "        \n",
    "        g_matrix = get_lr(state_values[6], lr)\n",
    "        lr_l4.append(float(g_matrix[0, 0]))\n",
    "        \n",
    "        \n",
    "        "
   ]
  },
  {
   "cell_type": "code",
   "execution_count": 25,
   "metadata": {},
   "outputs": [
    {
     "name": "stdout",
     "output_type": "stream",
     "text": [
      "torch.Size([10, 2])\n",
      "torch.Size([10])\n",
      "torch.Size([10, 10])\n",
      "torch.Size([10])\n",
      "torch.Size([5, 10])\n",
      "torch.Size([5])\n",
      "torch.Size([1, 5])\n",
      "torch.Size([1])\n"
     ]
    }
   ],
   "source": [
    "for i in state:\n",
    "    print(i.shape)"
   ]
  },
  {
   "cell_type": "code",
   "execution_count": 26,
   "metadata": {},
   "outputs": [
    {
     "data": {
      "image/png": "[encoded data removed]",
      "text/plain": [
       "<matplotlib.figure.Figure at 0x7f1171e88cf8>"
      ]
     },
     "metadata": {},
     "output_type": "display_data"
    }
   ],
   "source": [
    "plt.figure(figsize=(15,10))\n",
    "plt.subplot(4, 2, 5)\n",
    "plt.plot(epoch_list, lr_l1, label='lr l1 w0,0')\n",
    "plt.legend()\n",
    "\n",
    "plt.subplot(4, 2, 6)\n",
    "plt.plot(epoch_list, lr_l2, label='lr l2 w0,0')\n",
    "plt.legend()\n",
    "\n",
    "plt.subplot(4, 2, 7)\n",
    "plt.plot(epoch_list, lr_l3, label='lr l3 w0,0')\n",
    "plt.legend()\n",
    "\n",
    "plt.subplot(4, 2, 8)\n",
    "plt.plot(epoch_list, lr_l4, label='lr l4 w0,0')\n",
    "plt.legend()\n",
    "\n",
    "plt.subplot(2, 3, 1)\n",
    "plt.plot(epoch_list, lr_max, label='max')\n",
    "plt.legend()\n",
    "\n",
    "plt.subplot(2, 3, 2)\n",
    "plt.plot(epoch_list, lr_mean, label='mean')\n",
    "plt.legend()\n",
    "\n",
    "plt.subplot(2, 3, 3)\n",
    "plt.plot(epoch_list, lr_min, label='min')\n",
    "plt.legend()\n",
    "\n",
    "plt.savefig('adagrad/lrs.png', bbox_inches='tight')"
   ]
  },
  {
   "cell_type": "code",
   "execution_count": 30,
   "metadata": {},
   "outputs": [
    {
     "data": {
      "image/png": "[encoded data removed]",
      "text/plain": [
       "<matplotlib.figure.Figure at 0x7f1172421128>"
      ]
     },
     "metadata": {},
     "output_type": "display_data"
    }
   ],
   "source": [
    "plt.plot(learn_epoch_loss, c='r', label='learn')\n",
    "plt.plot(epoch_list, valid_epoch_loss, c='b', label='valid')\n",
    "plt.plot(epoch_list, test_epoch_loss, c='g', label='test')\n",
    "plt.legend()\n",
    "\n",
    "plt.title('Adagrad')\n",
    "plt.legend()\n",
    "plt.savefig('adagrad/test_loss.png', bbox_inches='tight')"
   ]
  },
  {
   "cell_type": "code",
   "execution_count": 28,
   "metadata": {},
   "outputs": [
    {
     "name": "stdout",
     "output_type": "stream",
     "text": [
      "5.664053179543771e-05\n",
      "1.7554243640915956e-06\n",
      "0.0018250070279464126\n"
     ]
    }
   ],
   "source": [
    "print(lr_mean[-1])\n",
    "print(lr_min[-1])\n",
    "print(lr_max[-1])"
   ]
  },
  {
   "cell_type": "code",
   "execution_count": 29,
   "metadata": {},
   "outputs": [
    {
     "name": "stdout",
     "output_type": "stream",
     "text": [
      "0.21771776676177979\n",
      "0.2143820971250534\n"
     ]
    }
   ],
   "source": [
    "print(learn_epoch_loss[-1])\n",
    "print(test_epoch_loss[-1])"
   ]
  },
  {
   "cell_type": "code",
   "execution_count": null,
   "metadata": {},
   "outputs": [],
   "source": []
  }
 ],
 "metadata": {
  "kernelspec": {
   "display_name": "Python 3",
   "language": "python",
   "name": "python3"
  },
  "language_info": {
   "codemirror_mode": {
    "name": "ipython",
    "version": 3
   },
   "file_extension": ".py",
   "mimetype": "text/x-python",
   "name": "python",
   "nbconvert_exporter": "python",
   "pygments_lexer": "ipython3",
   "version": "3.6.4"
  }
 },
 "nbformat": 4,
 "nbformat_minor": 2
}
