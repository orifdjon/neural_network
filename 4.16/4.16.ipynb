{
 "cells": [
  {
   "cell_type": "code",
   "execution_count": 16,
   "metadata": {},
   "outputs": [],
   "source": [
    "import pandas as pd\n",
    "import matplotlib\n",
    "import theano\n",
    "import matplotlib.pyplot as plt\n",
    "import numpy as np\n",
    "from torch.utils.data import Dataset, DataLoader\n",
    "from neupy import algorithms, layers, init, environment, plots\n",
    "from neupy.exceptions import StopTraining"
   ]
  },
  {
   "cell_type": "code",
   "execution_count": 17,
   "metadata": {},
   "outputs": [],
   "source": [
    "environment.reproducible() \n",
    "learn_data=pd.read_csv(\"../learn_data.csv\", index_col=0)\n",
    "learn_data=np.array(learn_data)\n",
    "validation_data=pd.read_csv(\"../valid_data.csv\", index_col=0)\n",
    "validation_data=np.array(validation_data)\n",
    "test_data=pd.read_csv(\"../test_data.csv\", index_col=0)\n",
    "test_data=np.array(test_data)\n",
    "eps=0.000001\n",
    "number_of_epochs=5000"
   ]
  },
  {
   "cell_type": "code",
   "execution_count": 18,
   "metadata": {},
   "outputs": [],
   "source": [
    "learn_params=learn_data[:,[0,1]]\n",
    "learn_target=learn_data[:,[2]]\n",
    "test_params=test_data[:,[0,1]]\n",
    "test_target=test_data[:,[2]]\n",
    "validation_params=validation_data[:,[0,1]]\n",
    "validation_target=validation_data[:,[2]]"
   ]
  },
  {
   "cell_type": "code",
   "execution_count": 19,
   "metadata": {},
   "outputs": [],
   "source": [
    "test_errors=[]\n",
    "def signal(net):\n",
    "    test_errors.append(((net.predict(test_params_noise)-test_target)**2).sum()/len(test_target))\n",
    "    if len(net.errors)>20:\n",
    "        if abs(net.errors[len(net.errors)-1]-net.errors[len(net.errors)-2]) < eps:\n",
    "            raise StopTraining(\"Training has been interrupted\")"
   ]
  },
  {
   "cell_type": "code",
   "execution_count": 20,
   "metadata": {},
   "outputs": [],
   "source": [
    "import random\n",
    "def create_noise_matrix(m, n, noise):\n",
    "    matr=np.empty((m, n))\n",
    "    for i in range(m):\n",
    "        for j in range(n):\n",
    "            matr[i][j]=random.gauss(0, noise)\n",
    "    return matr        \n",
    "    "
   ]
  },
  {
   "cell_type": "code",
   "execution_count": 29,
   "metadata": {},
   "outputs": [
    {
     "name": "stdout",
     "output_type": "stream",
     "text": [
      "\n",
      "Main information\n",
      "\n",
      "[ALGORITHM] Adam\n",
      "\r\n",
      "[OPTION] batch_size = 128\n",
      "[OPTION] verbose = True\n",
      "[OPTION] epoch_end_signal = signal\n",
      "[OPTION] show_epoch = 1000\n",
      "[OPTION] shuffle_data = False\n",
      "[OPTION] train_end_signal = None\n",
      "[OPTION] error = mse\n",
      "[OPTION] addons = None\n",
      "[OPTION] beta1 = 0.9\n",
      "[OPTION] beta2 = 0.999\n",
      "[OPTION] epsilon = 1e-07\n",
      "[OPTION] step = 0.001\n",
      "\r\n",
      "[THEANO] Initializing Theano variables and functions.\n"
     ]
    },
    {
     "name": "stderr",
     "output_type": "stream",
     "text": [
      "Time: 0:00:00 |N/A%|                                           | ETA:  --:--:--"
     ]
    },
    {
     "name": "stdout",
     "output_type": "stream",
     "text": [
      "[THEANO] Initialization finished successfully. It took 1.00 seconds\n",
      "\n",
      "Start training\n",
      "\n",
      "[TRAINING DATA] shapes: (4665, 2)\n",
      "[TEST DATA] shapes: (2332, 2)\n",
      "[TRAINING] Total epochs: 5000\n",
      "\r\n",
      "---------------------------------------------------------\n",
      "|    Epoch    |  Train err  |  Valid err  |    Time     |\n",
      "---------------------------------------------------------\n",
      "|           1 |      1.0789 |     0.82443 |       73 ms |\n"
     ]
    },
    {
     "name": "stderr",
     "output_type": "stream",
     "text": [
      "                                                                               \r"
     ]
    },
    {
     "name": "stdout",
     "output_type": "stream",
     "text": [
      "|        1000 |     0.16416 |     0.15798 |       12 ms |\n"
     ]
    },
    {
     "name": "stderr",
     "output_type": "stream",
     "text": [
      "                                                                               \r"
     ]
    },
    {
     "name": "stdout",
     "output_type": "stream",
     "text": [
      "|        2000 |     0.15721 |     0.15197 |       15 ms |\n"
     ]
    },
    {
     "name": "stderr",
     "output_type": "stream",
     "text": [
      "                                                                               \r"
     ]
    },
    {
     "name": "stdout",
     "output_type": "stream",
     "text": [
      "|        3000 |     0.15255 |      0.1478 |       11 ms |\n"
     ]
    },
    {
     "name": "stderr",
     "output_type": "stream",
     "text": [
      "                                                                               \r"
     ]
    },
    {
     "name": "stdout",
     "output_type": "stream",
     "text": [
      "|        4000 |     0.14865 |     0.14417 |       17 ms |\n"
     ]
    },
    {
     "name": "stderr",
     "output_type": "stream",
     "text": [
      "                                                                               \r"
     ]
    },
    {
     "name": "stdout",
     "output_type": "stream",
     "text": [
      "|        5000 |     0.14514 |     0.14081 |       17 ms |\n",
      "---------------------------------------------------------\n",
      "\r\n",
      "\n",
      "Main information\n",
      "\n",
      "[ALGORITHM] Adam\n",
      "\r\n",
      "[OPTION] batch_size = 128\n",
      "[OPTION] verbose = True\n",
      "[OPTION] epoch_end_signal = signal\n",
      "[OPTION] show_epoch = 1000\n",
      "[OPTION] shuffle_data = False\n",
      "[OPTION] train_end_signal = None\n",
      "[OPTION] error = mse\n",
      "[OPTION] addons = None\n",
      "[OPTION] beta1 = 0.9\n",
      "[OPTION] beta2 = 0.999\n",
      "[OPTION] epsilon = 1e-07\n",
      "[OPTION] step = 0.001\n",
      "\r\n",
      "[THEANO] Initializing Theano variables and functions.\n"
     ]
    },
    {
     "name": "stderr",
     "output_type": "stream",
     "text": [
      "Time: 0:00:00 |N/A%|                                           | ETA:  --:--:--"
     ]
    },
    {
     "name": "stdout",
     "output_type": "stream",
     "text": [
      "[THEANO] Initialization finished successfully. It took 0.98 seconds\n",
      "\n",
      "Start training\n",
      "\n",
      "[TRAINING DATA] shapes: (4665, 2)\n",
      "[TEST DATA] shapes: (2332, 2)\n",
      "[TRAINING] Total epochs: 5000\n",
      "\r\n",
      "---------------------------------------------------------\n",
      "|    Epoch    |  Train err  |  Valid err  |    Time     |\n",
      "---------------------------------------------------------\n",
      "|           1 |     0.83011 |      0.6006 |       10 ms |\n"
     ]
    },
    {
     "name": "stderr",
     "output_type": "stream",
     "text": [
      "Time: 0:00:00 |N/A%|                                           | ETA:  --:--:--"
     ]
    },
    {
     "name": "stdout",
     "output_type": "stream",
     "text": [
      "|        1000 |     0.16479 |     0.15892 |       12 ms |\n"
     ]
    },
    {
     "name": "stderr",
     "output_type": "stream",
     "text": [
      "Time: 0:00:00 |N/A%|                                           | ETA:  --:--:--"
     ]
    },
    {
     "name": "stdout",
     "output_type": "stream",
     "text": [
      "|        2000 |     0.15866 |     0.15331 |       12 ms |\n"
     ]
    },
    {
     "name": "stderr",
     "output_type": "stream",
     "text": [
      "                                                                               \r"
     ]
    },
    {
     "name": "stdout",
     "output_type": "stream",
     "text": [
      "|        3000 |     0.15464 |     0.14962 |       14 ms |\n"
     ]
    },
    {
     "name": "stderr",
     "output_type": "stream",
     "text": [
      "                                                                               \r"
     ]
    },
    {
     "name": "stdout",
     "output_type": "stream",
     "text": [
      "|        4000 |     0.15171 |     0.14689 |       15 ms |\n"
     ]
    },
    {
     "name": "stderr",
     "output_type": "stream",
     "text": [
      "                                                                               \r"
     ]
    },
    {
     "name": "stdout",
     "output_type": "stream",
     "text": [
      "|        5000 |     0.14946 |     0.14479 |       13 ms |\n",
      "---------------------------------------------------------\n",
      "\r\n",
      "\n",
      "Main information\n",
      "\n",
      "[ALGORITHM] Adam\n",
      "\r\n",
      "[OPTION] batch_size = 128\n",
      "[OPTION] verbose = True\n",
      "[OPTION] epoch_end_signal = signal\n",
      "[OPTION] show_epoch = 1000\n",
      "[OPTION] shuffle_data = False\n",
      "[OPTION] train_end_signal = None\n",
      "[OPTION] error = mse\n",
      "[OPTION] addons = None\n",
      "[OPTION] beta1 = 0.9\n",
      "[OPTION] beta2 = 0.999\n",
      "[OPTION] epsilon = 1e-07\n",
      "[OPTION] step = 0.001\n",
      "\r\n",
      "[THEANO] Initializing Theano variables and functions.\n"
     ]
    },
    {
     "name": "stderr",
     "output_type": "stream",
     "text": [
      "Time: 0:00:00 |N/A%|                                           | ETA:  --:--:--"
     ]
    },
    {
     "name": "stdout",
     "output_type": "stream",
     "text": [
      "[THEANO] Initialization finished successfully. It took 0.88 seconds\n",
      "\n",
      "Start training\n",
      "\n",
      "[TRAINING DATA] shapes: (4665, 2)\n",
      "[TEST DATA] shapes: (2332, 2)\n",
      "[TRAINING] Total epochs: 5000\n",
      "\r\n",
      "---------------------------------------------------------\n",
      "|    Epoch    |  Train err  |  Valid err  |    Time     |\n",
      "---------------------------------------------------------\n",
      "|           1 |      1.8478 |     0.65317 |       11 ms |\n"
     ]
    },
    {
     "name": "stderr",
     "output_type": "stream",
     "text": [
      "Time: 0:00:00 |N/A%|                                           | ETA:  --:--:--"
     ]
    },
    {
     "name": "stdout",
     "output_type": "stream",
     "text": [
      "|        1000 |     0.15673 |       0.152 |       16 ms |\n"
     ]
    },
    {
     "name": "stderr",
     "output_type": "stream",
     "text": [
      "                                                                               \r"
     ]
    },
    {
     "name": "stdout",
     "output_type": "stream",
     "text": [
      "|        2000 |     0.15336 |     0.14903 |       17 ms |\n"
     ]
    },
    {
     "name": "stderr",
     "output_type": "stream",
     "text": [
      "                                                                               \r"
     ]
    },
    {
     "name": "stdout",
     "output_type": "stream",
     "text": [
      "|        3000 |     0.15096 |     0.14691 |       17 ms |\n"
     ]
    },
    {
     "name": "stderr",
     "output_type": "stream",
     "text": [
      "Time: 0:00:00 |N/A%|                                           | ETA:  --:--:--"
     ]
    },
    {
     "name": "stdout",
     "output_type": "stream",
     "text": [
      "|        4000 |     0.14904 |     0.14522 |       17 ms |\n"
     ]
    },
    {
     "name": "stderr",
     "output_type": "stream",
     "text": [
      "                                                                               \r"
     ]
    },
    {
     "name": "stdout",
     "output_type": "stream",
     "text": [
      "|        5000 |     0.14745 |     0.14379 |       18 ms |\n",
      "---------------------------------------------------------\n",
      "\r\n",
      "\n",
      "Main information\n",
      "\n",
      "[ALGORITHM] Adam\n",
      "\r\n",
      "[OPTION] batch_size = 128\n",
      "[OPTION] verbose = True\n",
      "[OPTION] epoch_end_signal = signal\n",
      "[OPTION] show_epoch = 1000\n",
      "[OPTION] shuffle_data = False\n",
      "[OPTION] train_end_signal = None\n",
      "[OPTION] error = mse\n",
      "[OPTION] addons = None\n",
      "[OPTION] beta1 = 0.9\n",
      "[OPTION] beta2 = 0.999\n",
      "[OPTION] epsilon = 1e-07\n",
      "[OPTION] step = 0.001\n",
      "\r\n",
      "[THEANO] Initializing Theano variables and functions.\n"
     ]
    },
    {
     "name": "stderr",
     "output_type": "stream",
     "text": [
      "Time: 0:00:00 |N/A%|                                           | ETA:  --:--:--"
     ]
    },
    {
     "name": "stdout",
     "output_type": "stream",
     "text": [
      "[THEANO] Initialization finished successfully. It took 1.28 seconds\n",
      "\n",
      "Start training\n",
      "\n",
      "[TRAINING DATA] shapes: (4665, 2)\n",
      "[TEST DATA] shapes: (2332, 2)\n",
      "[TRAINING] Total epochs: 5000\n",
      "\r\n",
      "---------------------------------------------------------\n",
      "|    Epoch    |  Train err  |  Valid err  |    Time     |\n",
      "---------------------------------------------------------\n",
      "|           1 |     0.48946 |     0.19867 |       13 ms |\n"
     ]
    },
    {
     "name": "stderr",
     "output_type": "stream",
     "text": [
      "                                                                               \r"
     ]
    },
    {
     "name": "stdout",
     "output_type": "stream",
     "text": [
      "|        1000 |     0.16604 |     0.15805 |       12 ms |\n"
     ]
    },
    {
     "name": "stderr",
     "output_type": "stream",
     "text": [
      "                                                                               \r"
     ]
    },
    {
     "name": "stdout",
     "output_type": "stream",
     "text": [
      "|        2000 |     0.16086 |     0.15306 |       15 ms |\n"
     ]
    },
    {
     "name": "stderr",
     "output_type": "stream",
     "text": [
      "Time: 0:00:00 |N/A%|                                           | ETA:  --:--:--"
     ]
    },
    {
     "name": "stdout",
     "output_type": "stream",
     "text": [
      "|        3000 |     0.15782 |     0.15009 |       14 ms |\n"
     ]
    },
    {
     "name": "stderr",
     "output_type": "stream",
     "text": [
      "                                                                               \r"
     ]
    },
    {
     "name": "stdout",
     "output_type": "stream",
     "text": [
      "|        4000 |     0.15569 |     0.14797 |       15 ms |\n"
     ]
    },
    {
     "name": "stderr",
     "output_type": "stream",
     "text": [
      "                                                                               \r"
     ]
    },
    {
     "name": "stdout",
     "output_type": "stream",
     "text": [
      "|        5000 |     0.15406 |     0.14633 |       17 ms |\n",
      "---------------------------------------------------------\n",
      "\r\n",
      "\n",
      "Main information\n",
      "\n",
      "[ALGORITHM] Adam\n",
      "\r\n",
      "[OPTION] batch_size = 128\n",
      "[OPTION] verbose = True\n",
      "[OPTION] epoch_end_signal = signal\n",
      "[OPTION] show_epoch = 1000\n",
      "[OPTION] shuffle_data = False\n",
      "[OPTION] train_end_signal = None\n",
      "[OPTION] error = mse\n",
      "[OPTION] addons = None\n",
      "[OPTION] beta1 = 0.9\n",
      "[OPTION] beta2 = 0.999\n",
      "[OPTION] epsilon = 1e-07\n",
      "[OPTION] step = 0.001\n",
      "\r\n",
      "[THEANO] Initializing Theano variables and functions.\n"
     ]
    },
    {
     "name": "stderr",
     "output_type": "stream",
     "text": [
      "Time: 0:00:00 |N/A%|                                           | ETA:  --:--:--"
     ]
    },
    {
     "name": "stdout",
     "output_type": "stream",
     "text": [
      "[THEANO] Initialization finished successfully. It took 1.03 seconds\n",
      "\n",
      "Start training\n",
      "\n",
      "[TRAINING DATA] shapes: (4665, 2)\n",
      "[TEST DATA] shapes: (2332, 2)\n",
      "[TRAINING] Total epochs: 5000\n",
      "\r\n",
      "---------------------------------------------------------\n",
      "|    Epoch    |  Train err  |  Valid err  |    Time     |\n",
      "---------------------------------------------------------\n",
      "|           1 |     0.78213 |     0.44218 |       15 ms |\n"
     ]
    },
    {
     "name": "stderr",
     "output_type": "stream",
     "text": [
      "Time: 0:00:00 |N/A%|                                           | ETA:  --:--:--"
     ]
    },
    {
     "name": "stdout",
     "output_type": "stream",
     "text": [
      "|        1000 |     0.20314 |     0.19317 |       17 ms |\n"
     ]
    },
    {
     "name": "stderr",
     "output_type": "stream",
     "text": [
      "Time: 0:00:00 |N/A%|                                           | ETA:  --:--:--"
     ]
    },
    {
     "name": "stdout",
     "output_type": "stream",
     "text": [
      "|        2000 |     0.20056 |     0.19109 |       12 ms |\n"
     ]
    },
    {
     "name": "stderr",
     "output_type": "stream",
     "text": [
      "                                                                               \r"
     ]
    },
    {
     "name": "stdout",
     "output_type": "stream",
     "text": [
      "---------------------------------------------------------\n",
      "[TRAIN] Epoch #2454 stopped. Training has been interrupted\n",
      "|        2454 |     0.20003 |     0.19067 |       24 ms |\n",
      "\r\n",
      "\n",
      "Main information\n",
      "\n",
      "[ALGORITHM] Adam\n",
      "\r\n",
      "[OPTION] batch_size = 128\n",
      "[OPTION] verbose = True\n",
      "[OPTION] epoch_end_signal = signal\n",
      "[OPTION] show_epoch = 1000\n",
      "[OPTION] shuffle_data = False\n",
      "[OPTION] train_end_signal = None\n",
      "[OPTION] error = mse\n",
      "[OPTION] addons = None\n",
      "[OPTION] beta1 = 0.9\n",
      "[OPTION] beta2 = 0.999\n",
      "[OPTION] epsilon = 1e-07\n",
      "[OPTION] step = 0.001\n",
      "\r\n",
      "[THEANO] Initializing Theano variables and functions.\n"
     ]
    },
    {
     "name": "stderr",
     "output_type": "stream",
     "text": [
      "Time: 0:00:00 |N/A%|                                           | ETA:  --:--:--"
     ]
    },
    {
     "name": "stdout",
     "output_type": "stream",
     "text": [
      "[THEANO] Initialization finished successfully. It took 1.38 seconds\n",
      "\n",
      "Start training\n",
      "\n",
      "[TRAINING DATA] shapes: (4665, 2)\n",
      "[TEST DATA] shapes: (2332, 2)\n",
      "[TRAINING] Total epochs: 5000\n",
      "\r\n",
      "---------------------------------------------------------\n",
      "|    Epoch    |  Train err  |  Valid err  |    Time     |\n",
      "---------------------------------------------------------\n",
      "|           1 |      1.0508 |     0.43933 |       17 ms |\n"
     ]
    },
    {
     "name": "stderr",
     "output_type": "stream",
     "text": [
      "Time: 0:00:00 |N/A%|                                           | ETA:  --:--:--"
     ]
    },
    {
     "name": "stdout",
     "output_type": "stream",
     "text": [
      "|        1000 |     0.31506 |     0.30076 |       26 ms |\n"
     ]
    },
    {
     "name": "stderr",
     "output_type": "stream",
     "text": [
      "Time: 0:00:00 |N/A%|                                           | ETA:  --:--:--"
     ]
    },
    {
     "name": "stdout",
     "output_type": "stream",
     "text": [
      "|        2000 |     0.31337 |     0.29935 |       13 ms |\n"
     ]
    },
    {
     "name": "stderr",
     "output_type": "stream",
     "text": [
      "                                                                               \r"
     ]
    },
    {
     "name": "stdout",
     "output_type": "stream",
     "text": [
      "---------------------------------------------------------\n",
      "[TRAIN] Epoch #2383 stopped. Training has been interrupted\n",
      "|        2383 |     0.31295 |     0.29902 |       22 ms |\n",
      "\r\n",
      "\n",
      "Main information\n",
      "\n",
      "[ALGORITHM] Adam\n",
      "\r\n",
      "[OPTION] batch_size = 128\n",
      "[OPTION] verbose = True\n",
      "[OPTION] epoch_end_signal = signal\n",
      "[OPTION] show_epoch = 1000\n",
      "[OPTION] shuffle_data = False\n",
      "[OPTION] train_end_signal = None\n",
      "[OPTION] error = mse\n",
      "[OPTION] addons = None\n",
      "[OPTION] beta1 = 0.9\n",
      "[OPTION] beta2 = 0.999\n",
      "[OPTION] epsilon = 1e-07\n",
      "[OPTION] step = 0.001\n",
      "\r\n",
      "[THEANO] Initializing Theano variables and functions.\n"
     ]
    },
    {
     "name": "stderr",
     "output_type": "stream",
     "text": [
      "Time: 0:00:00 |N/A%|                                           | ETA:  --:--:--"
     ]
    },
    {
     "name": "stdout",
     "output_type": "stream",
     "text": [
      "[THEANO] Initialization finished successfully. It took 2.35 seconds\n",
      "\n",
      "Start training\n",
      "\n",
      "[TRAINING DATA] shapes: (4665, 2)\n",
      "[TEST DATA] shapes: (2332, 2)\n",
      "[TRAINING] Total epochs: 5000\n",
      "\r\n",
      "---------------------------------------------------------\n",
      "|    Epoch    |  Train err  |  Valid err  |    Time     |\n",
      "---------------------------------------------------------\n",
      "|           1 |      1.0146 |     0.70267 |       12 ms |\n"
     ]
    },
    {
     "name": "stderr",
     "output_type": "stream",
     "text": [
      "Time: 0:00:00 |N/A%|                                           | ETA:  --:--:--"
     ]
    },
    {
     "name": "stdout",
     "output_type": "stream",
     "text": [
      "|        1000 |     0.42332 |     0.43599 |       15 ms |\n"
     ]
    },
    {
     "name": "stderr",
     "output_type": "stream",
     "text": [
      "                                                                               \r"
     ]
    },
    {
     "name": "stdout",
     "output_type": "stream",
     "text": [
      "---------------------------------------------------------\n",
      "[TRAIN] Epoch #1769 stopped. Training has been interrupted\n",
      "|        1769 |     0.42233 |     0.43467 |       18 ms |\n",
      "\r\n",
      "\n",
      "Main information\n",
      "\n",
      "[ALGORITHM] Adam\n",
      "\r\n",
      "[OPTION] batch_size = 128\n",
      "[OPTION] verbose = True\n",
      "[OPTION] epoch_end_signal = signal\n",
      "[OPTION] show_epoch = 1000\n",
      "[OPTION] shuffle_data = False\n",
      "[OPTION] train_end_signal = None\n",
      "[OPTION] error = mse\n",
      "[OPTION] addons = None\n",
      "[OPTION] beta1 = 0.9\n",
      "[OPTION] beta2 = 0.999\n",
      "[OPTION] epsilon = 1e-07\n",
      "[OPTION] step = 0.001\n",
      "\r\n",
      "[THEANO] Initializing Theano variables and functions.\n"
     ]
    },
    {
     "name": "stderr",
     "output_type": "stream",
     "text": [
      "Time: 0:00:00 |N/A%|                                           | ETA:  --:--:--"
     ]
    },
    {
     "name": "stdout",
     "output_type": "stream",
     "text": [
      "[THEANO] Initialization finished successfully. It took 1.45 seconds\n",
      "\n",
      "Start training\n",
      "\n",
      "[TRAINING DATA] shapes: (4665, 2)\n",
      "[TEST DATA] shapes: (2332, 2)\n",
      "[TRAINING] Total epochs: 5000\n",
      "\r\n",
      "---------------------------------------------------------\n",
      "|    Epoch    |  Train err  |  Valid err  |    Time     |\n",
      "---------------------------------------------------------\n",
      "|           1 |     0.93466 |      0.5956 |       23 ms |\n"
     ]
    },
    {
     "name": "stderr",
     "output_type": "stream",
     "text": [
      "                                                                               \r"
     ]
    },
    {
     "name": "stdout",
     "output_type": "stream",
     "text": [
      "|        1000 |     0.59691 |     0.55748 |       16 ms |\n"
     ]
    },
    {
     "name": "stderr",
     "output_type": "stream",
     "text": [
      "Time: 0:00:00 |N/A%|                                           | ETA:  --:--:--"
     ]
    },
    {
     "name": "stdout",
     "output_type": "stream",
     "text": [
      "|        2000 |      0.5947 |     0.55568 |       11 ms |\n"
     ]
    },
    {
     "name": "stderr",
     "output_type": "stream",
     "text": [
      "                                                                               \r"
     ]
    },
    {
     "name": "stdout",
     "output_type": "stream",
     "text": [
      "|        3000 |     0.59344 |     0.55477 |       16 ms |\n"
     ]
    },
    {
     "name": "stderr",
     "output_type": "stream",
     "text": [
      "                                                                               \r"
     ]
    },
    {
     "name": "stdout",
     "output_type": "stream",
     "text": [
      "---------------------------------------------------------\n",
      "[TRAIN] Epoch #3133 stopped. Training has been interrupted\n",
      "|        3133 |     0.59331 |     0.55468 |       26 ms |\n",
      "\r\n",
      "\n",
      "Main information\n",
      "\n",
      "[ALGORITHM] Adam\n",
      "\r\n",
      "[OPTION] batch_size = 128\n",
      "[OPTION] verbose = True\n",
      "[OPTION] epoch_end_signal = signal\n",
      "[OPTION] show_epoch = 1000\n",
      "[OPTION] shuffle_data = False\n",
      "[OPTION] train_end_signal = None\n",
      "[OPTION] error = mse\n",
      "[OPTION] addons = None\n",
      "[OPTION] beta1 = 0.9\n",
      "[OPTION] beta2 = 0.999\n",
      "[OPTION] epsilon = 1e-07\n",
      "[OPTION] step = 0.001\n",
      "\r\n",
      "[THEANO] Initializing Theano variables and functions.\n"
     ]
    },
    {
     "name": "stderr",
     "output_type": "stream",
     "text": [
      "Time: 0:00:00 |N/A%|                                           | ETA:  --:--:--"
     ]
    },
    {
     "name": "stdout",
     "output_type": "stream",
     "text": [
      "[THEANO] Initialization finished successfully. It took 1.69 seconds\n",
      "\n",
      "Start training\n",
      "\n",
      "[TRAINING DATA] shapes: (4665, 2)\n",
      "[TEST DATA] shapes: (2332, 2)\n",
      "[TRAINING] Total epochs: 5000\n",
      "\r\n",
      "---------------------------------------------------------\n",
      "|    Epoch    |  Train err  |  Valid err  |    Time     |\n",
      "---------------------------------------------------------\n",
      "|           1 |      1.2228 |     0.92267 |       28 ms |\n"
     ]
    },
    {
     "name": "stderr",
     "output_type": "stream",
     "text": [
      "                                                                               \r"
     ]
    },
    {
     "name": "stdout",
     "output_type": "stream",
     "text": [
      "|        1000 |      0.8844 |      0.8782 |       31 ms |\n"
     ]
    },
    {
     "name": "stderr",
     "output_type": "stream",
     "text": [
      "                                                                               \r"
     ]
    },
    {
     "name": "stdout",
     "output_type": "stream",
     "text": [
      "---------------------------------------------------------\n",
      "[TRAIN] Epoch #1470 stopped. Training has been interrupted\n",
      "|        1470 |     0.88385 |     0.87742 |       16 ms |\n",
      "\r\n",
      "\n",
      "Main information\n",
      "\n",
      "[ALGORITHM] Adam\n",
      "\r\n",
      "[OPTION] batch_size = 128\n",
      "[OPTION] verbose = True\n",
      "[OPTION] epoch_end_signal = signal\n",
      "[OPTION] show_epoch = 1000\n",
      "[OPTION] shuffle_data = False\n",
      "[OPTION] train_end_signal = None\n",
      "[OPTION] error = mse\n",
      "[OPTION] addons = None\n",
      "[OPTION] beta1 = 0.9\n",
      "[OPTION] beta2 = 0.999\n",
      "[OPTION] epsilon = 1e-07\n",
      "[OPTION] step = 0.001\n",
      "\r\n",
      "[THEANO] Initializing Theano variables and functions.\n"
     ]
    },
    {
     "name": "stderr",
     "output_type": "stream",
     "text": [
      "Time: 0:00:00 |N/A%|                                           | ETA:  --:--:--"
     ]
    },
    {
     "name": "stdout",
     "output_type": "stream",
     "text": [
      "[THEANO] Initialization finished successfully. It took 0.95 seconds\n",
      "\n",
      "Start training\n",
      "\n",
      "[TRAINING DATA] shapes: (4665, 2)\n",
      "[TEST DATA] shapes: (2332, 2)\n",
      "[TRAINING] Total epochs: 5000\n",
      "\r\n",
      "---------------------------------------------------------\n",
      "|    Epoch    |  Train err  |  Valid err  |    Time     |\n",
      "---------------------------------------------------------\n",
      "|           1 |      1.1828 |     0.99836 |       18 ms |\n"
     ]
    },
    {
     "name": "stderr",
     "output_type": "stream",
     "text": [
      "                                                                               \r"
     ]
    },
    {
     "name": "stdout",
     "output_type": "stream",
     "text": [
      "|        1000 |     0.97118 |     0.97623 |       13 ms |\n"
     ]
    },
    {
     "name": "stderr",
     "output_type": "stream",
     "text": [
      "                                                                               \r"
     ]
    },
    {
     "name": "stdout",
     "output_type": "stream",
     "text": [
      "---------------------------------------------------------\n",
      "[TRAIN] Epoch #1460 stopped. Training has been interrupted\n",
      "|        1460 |     0.97061 |      0.9758 |       13 ms |\n",
      "\r\n"
     ]
    },
    {
     "data": {
      "image/png": "[encoded data removed]",
      "text/plain": [
       "<matplotlib.figure.Figure at 0x7fc927363470>"
      ]
     },
     "metadata": {},
     "output_type": "display_data"
    }
   ],
   "source": [
    "noises=[0, 0.01, 0.05, 0.1, 0.25, 0.5, 0.75, 1, 2.5, 5]\n",
    "test_errors_task=[]\n",
    "learn_errors_task=[]\n",
    "validation_errors_task=[]\n",
    "for noise in noises:\n",
    "    test_errors=[]\n",
    "    test_params_noise=test_params+create_noise_matrix(len(test_params),2,noise)\n",
    "    adamnet=algorithms.Adam(\n",
    "        connection=[\n",
    "            layers.Input(2),\n",
    "            layers.Tanh(10, weight=init.XavierNormal(), bias=init.XavierNormal()),\n",
    "            layers.Tanh(10, weight=init.XavierNormal(), bias=init.XavierNormal()),\n",
    "            layers.Tanh(5, weight=init.XavierNormal(), bias=init.XavierNormal()),\n",
    "            layers.Linear(1, weight=init.XavierNormal(), bias=init.XavierNormal())\n",
    "        ],   \n",
    "        error='mse',\n",
    "        verbose=True,\n",
    "        show_epoch=1000,\n",
    "        epoch_end_signal=signal\n",
    "    )\n",
    "    adamnet.train(learn_params+create_noise_matrix(len(learn_params),2,noise), learn_target, validation_params+create_noise_matrix(len(validation_params),2,noise), validation_target, epochs=number_of_epochs)\n",
    "    test_errors_task.append(test_errors[len(test_errors)-1])\n",
    "    learn_errors_task.append(adamnet.errors.last())\n",
    "    validation_errors_task.append(adamnet.validation_errors.last())\n",
    "plt.clf()\n",
    "plt.grid(True)\n",
    "plt.plot(noises, learn_errors_task, color='r', label='train') \n",
    "plt.plot(noises, validation_errors_task, color='b', label='valid') \n",
    "plt.plot(noises, test_errors_task, color='g', label='test')\n",
    "plt.legend()\n",
    "plt.savefig('noise_train_valid_test.png', bbox_inches='tight')\n"
   ]
  },
  {
   "cell_type": "code",
   "execution_count": 28,
   "metadata": {},
   "outputs": [
    {
     "data": {
      "text/plain": [
       "[0.13980946877889272,\n",
       " 0.15337526616652025,\n",
       " 0.14639253925702386,\n",
       " 0.15384657111231806,\n",
       " 0.19865616414536888,\n",
       " 0.29352143055073826,\n",
       " 0.43031407981553127,\n",
       " 0.5550513168931198,\n",
       " 0.88347625216185,\n",
       " 0.9747848055936363]"
      ]
     },
     "execution_count": 28,
     "metadata": {},
     "output_type": "execute_result"
    }
   ],
   "source": []
  },
  {
   "cell_type": "code",
   "execution_count": null,
   "metadata": {},
   "outputs": [],
   "source": []
  }
 ],
 "metadata": {
  "kernelspec": {
   "display_name": "Python 3",
   "language": "python",
   "name": "python3"
  },
  "language_info": {
   "codemirror_mode": {
    "name": "ipython",
    "version": 3
   },
   "file_extension": ".py",
   "mimetype": "text/x-python",
   "name": "python",
   "nbconvert_exporter": "python",
   "pygments_lexer": "ipython3",
   "version": "3.6.4"
  }
 },
 "nbformat": 4,
 "nbformat_minor": 2
}
