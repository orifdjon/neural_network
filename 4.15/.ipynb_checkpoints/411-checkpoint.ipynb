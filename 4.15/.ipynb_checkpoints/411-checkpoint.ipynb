{
 "cells": [
  {
   "cell_type": "code",
   "execution_count": 1,
   "metadata": {},
   "outputs": [],
   "source": [
    "import seaborn as sns\n",
    "import pandas as pd\n",
    "import matplotlib.pylab as plt\n",
    "import numpy as np"
   ]
  },
  {
   "cell_type": "code",
   "execution_count": 2,
   "metadata": {},
   "outputs": [],
   "source": [
    "iter_by_method = pd.DataFrame()"
   ]
  },
  {
   "cell_type": "code",
   "execution_count": 3,
   "metadata": {},
   "outputs": [],
   "source": [
    "name_of_methods = ['GD', 'GDM', 'NAG', 'SGD', 'Fl.-Reev.', 'Pol.-Rib.', 'AdaGrad', 'RMSProp',\\\n",
    "                       'Adam', 'AdaDelta', 'Rprop', 'LM', 'BFGS', 'Stohastic']\n",
    "amounts_of_iter = [5000, 3772, 3714, 648, 424, 2, 50000, 11760, 2313, 50000, 10838, 44, 2058,\\\n",
    "                        50000]\n",
    "learning_loss = [0.126, 0.103, 0.112, 0.157, 0.281, 0.204, 0.174, 0.009, 0.020, 0.134, 0.187, 0.62, 0.01, 0.163]\n",
    "\n",
    "test_loss = [0.177, 0.209, 0.216, 0.202, 0.721, 0.449, 0.184, 0.704, 0.450, 0.214, 0.134, 0.62, 1.914, 0.190]\n",
    "\n",
    "minimum_test_loss = [0.177, 0.209, 0.216, 0.198, 0.196, 0.195, 0.184, 0.178, 0.240, 0.214, 0.134, 0.307, 0.2, 0.190]"
   ]
  },
  {
   "cell_type": "code",
   "execution_count": 4,
   "metadata": {},
   "outputs": [],
   "source": [
    "iter_by_method = iter_by_method.from_dict({'Method': name_of_methods, 'Amount of iter' :amounts_of_iter,\\\n",
    "                                          'Learn loss': learning_loss, 'Test loss': test_loss, 'Min test loss': minimum_test_loss})"
   ]
  },
  {
   "cell_type": "code",
   "execution_count": 5,
   "metadata": {},
   "outputs": [
    {
     "data": {
      "text/html": [
       "<div>\n",
       "<style scoped>\n",
       "    .dataframe tbody tr th:only-of-type {\n",
       "        vertical-align: middle;\n",
       "    }\n",
       "\n",
       "    .dataframe tbody tr th {\n",
       "        vertical-align: top;\n",
       "    }\n",
       "\n",
       "    .dataframe thead th {\n",
       "        text-align: right;\n",
       "    }\n",
       "</style>\n",
       "<table border=\"1\" class=\"dataframe\">\n",
       "  <thead>\n",
       "    <tr style=\"text-align: right;\">\n",
       "      <th></th>\n",
       "      <th>Amount of iter</th>\n",
       "      <th>Learn loss</th>\n",
       "      <th>Method</th>\n",
       "      <th>Min test loss</th>\n",
       "      <th>Test loss</th>\n",
       "    </tr>\n",
       "  </thead>\n",
       "  <tbody>\n",
       "    <tr>\n",
       "      <th>0</th>\n",
       "      <td>50000</td>\n",
       "      <td>0.126</td>\n",
       "      <td>GD</td>\n",
       "      <td>0.177</td>\n",
       "      <td>0.177</td>\n",
       "    </tr>\n",
       "    <tr>\n",
       "      <th>1</th>\n",
       "      <td>50000</td>\n",
       "      <td>0.103</td>\n",
       "      <td>GDM</td>\n",
       "      <td>0.209</td>\n",
       "      <td>0.209</td>\n",
       "    </tr>\n",
       "    <tr>\n",
       "      <th>2</th>\n",
       "      <td>50000</td>\n",
       "      <td>0.112</td>\n",
       "      <td>NAG</td>\n",
       "      <td>0.216</td>\n",
       "      <td>0.216</td>\n",
       "    </tr>\n",
       "    <tr>\n",
       "      <th>3</th>\n",
       "      <td>50000</td>\n",
       "      <td>0.157</td>\n",
       "      <td>SGD</td>\n",
       "      <td>0.198</td>\n",
       "      <td>0.202</td>\n",
       "    </tr>\n",
       "    <tr>\n",
       "      <th>4</th>\n",
       "      <td>4086</td>\n",
       "      <td>0.281</td>\n",
       "      <td>Fl.-Reev.</td>\n",
       "      <td>0.196</td>\n",
       "      <td>0.721</td>\n",
       "    </tr>\n",
       "    <tr>\n",
       "      <th>5</th>\n",
       "      <td>3507</td>\n",
       "      <td>0.204</td>\n",
       "      <td>Pol.-Rib.</td>\n",
       "      <td>0.195</td>\n",
       "      <td>0.449</td>\n",
       "    </tr>\n",
       "    <tr>\n",
       "      <th>6</th>\n",
       "      <td>50000</td>\n",
       "      <td>0.174</td>\n",
       "      <td>AdaGrad</td>\n",
       "      <td>0.184</td>\n",
       "      <td>0.184</td>\n",
       "    </tr>\n",
       "    <tr>\n",
       "      <th>7</th>\n",
       "      <td>11760</td>\n",
       "      <td>0.009</td>\n",
       "      <td>RMSProp</td>\n",
       "      <td>0.178</td>\n",
       "      <td>0.704</td>\n",
       "    </tr>\n",
       "    <tr>\n",
       "      <th>8</th>\n",
       "      <td>2313</td>\n",
       "      <td>0.020</td>\n",
       "      <td>Adam</td>\n",
       "      <td>0.240</td>\n",
       "      <td>0.450</td>\n",
       "    </tr>\n",
       "    <tr>\n",
       "      <th>9</th>\n",
       "      <td>50000</td>\n",
       "      <td>0.134</td>\n",
       "      <td>AdaDelta</td>\n",
       "      <td>0.214</td>\n",
       "      <td>0.214</td>\n",
       "    </tr>\n",
       "    <tr>\n",
       "      <th>10</th>\n",
       "      <td>10838</td>\n",
       "      <td>0.187</td>\n",
       "      <td>Rprop</td>\n",
       "      <td>0.134</td>\n",
       "      <td>0.134</td>\n",
       "    </tr>\n",
       "    <tr>\n",
       "      <th>11</th>\n",
       "      <td>44</td>\n",
       "      <td>0.620</td>\n",
       "      <td>LM</td>\n",
       "      <td>0.307</td>\n",
       "      <td>0.620</td>\n",
       "    </tr>\n",
       "    <tr>\n",
       "      <th>12</th>\n",
       "      <td>2058</td>\n",
       "      <td>0.010</td>\n",
       "      <td>BFGS</td>\n",
       "      <td>0.200</td>\n",
       "      <td>1.914</td>\n",
       "    </tr>\n",
       "    <tr>\n",
       "      <th>13</th>\n",
       "      <td>50000</td>\n",
       "      <td>0.163</td>\n",
       "      <td>Stohastic</td>\n",
       "      <td>0.190</td>\n",
       "      <td>0.190</td>\n",
       "    </tr>\n",
       "  </tbody>\n",
       "</table>\n",
       "</div>"
      ],
      "text/plain": [
       "    Amount of iter  Learn loss     Method  Min test loss  Test loss\n",
       "0            50000       0.126         GD          0.177      0.177\n",
       "1            50000       0.103        GDM          0.209      0.209\n",
       "2            50000       0.112        NAG          0.216      0.216\n",
       "3            50000       0.157        SGD          0.198      0.202\n",
       "4             4086       0.281  Fl.-Reev.          0.196      0.721\n",
       "5             3507       0.204  Pol.-Rib.          0.195      0.449\n",
       "6            50000       0.174    AdaGrad          0.184      0.184\n",
       "7            11760       0.009    RMSProp          0.178      0.704\n",
       "8             2313       0.020       Adam          0.240      0.450\n",
       "9            50000       0.134   AdaDelta          0.214      0.214\n",
       "10           10838       0.187      Rprop          0.134      0.134\n",
       "11              44       0.620         LM          0.307      0.620\n",
       "12            2058       0.010       BFGS          0.200      1.914\n",
       "13           50000       0.163  Stohastic          0.190      0.190"
      ]
     },
     "execution_count": 5,
     "metadata": {},
     "output_type": "execute_result"
    }
   ],
   "source": [
    "iter_by_method"
   ]
  },
  {
   "cell_type": "code",
   "execution_count": 13,
   "metadata": {},
   "outputs": [
    {
     "data": {
      "image/png": "[encoded data removed]",
      "text/plain": [
       "<matplotlib.figure.Figure at 0x1a1bc1f160>"
      ]
     },
     "metadata": {},
     "output_type": "display_data"
    }
   ],
   "source": [
    "plt.figure(figsize=(15,7))\n",
    "sns.barplot(x='Method', y='Amount of iter', errwidth=0, data=iter_by_method)\n",
    "plt.title('amount of iter by methods')\n",
    "plt.savefig('amount_of_iter_and_methods.png', bbox_inches='tight')"
   ]
  },
  {
   "cell_type": "code",
   "execution_count": 11,
   "metadata": {},
   "outputs": [
    {
     "name": "stdout",
     "output_type": "stream",
     "text": [
      "14\n",
      "14\n",
      "14\n",
      "14\n"
     ]
    }
   ],
   "source": [
    "n_methods = len(name_of_methods)\n",
    "index = np.arange(n_methods)\n",
    "bar_width = 0.25\n",
    "opacity = 0.8\n",
    "print(n_methods)\n",
    "print(len(learning_loss))\n",
    "print(len(test_loss))\n",
    "print(len(minimum_test_loss))"
   ]
  },
  {
   "cell_type": "code",
   "execution_count": 15,
   "metadata": {},
   "outputs": [
    {
     "data": {
      "image/png": "[encoded data removed]",
      "text/plain": [
       "<matplotlib.figure.Figure at 0x1a1c677eb8>"
      ]
     },
     "metadata": {},
     "output_type": "display_data"
    }
   ],
   "source": [
    "plt.figure(figsize=(15, 7))\n",
    "\n",
    "colors = plt.cm.bwr_r(np.linspace(0, 0, len(name_of_methods)))\n",
    "rects1 = plt.bar(index, test_loss, bar_width,\n",
    "                 alpha=opacity,\n",
    "                 color=colors,\n",
    "                 label='Test loss')\n",
    "\n",
    "colors = plt.cm.Blues_r(np.linspace(0, 0, len(name_of_methods)))\n",
    "rects2 = plt.bar(index + bar_width, learning_loss, bar_width,\n",
    "                 alpha=opacity,\n",
    "                 color=colors,\n",
    "                 label='Learn loss')\n",
    "\n",
    "colors = plt.cm.gist_gray_r(np.linspace(0.25, 0.25, len(name_of_methods)))\n",
    "rects3 = plt.bar(index + 2*bar_width, minimum_test_loss, bar_width,\n",
    "                 alpha=opacity,\n",
    "                 color=colors,\n",
    "                 label='Minimum test loss')\n",
    " \n",
    "plt.xlabel('Method')\n",
    "plt.ylabel('loss')\n",
    "plt.title('Loss and methods')\n",
    "plt.xticks(index + bar_width, name_of_methods)\n",
    "plt.legend()\n",
    " \n",
    "plt.tight_layout()\n",
    "plt.savefig('loss_and_methods.png', bbox_inches='tight')"
   ]
  },
  {
   "cell_type": "code",
   "execution_count": null,
   "metadata": {},
   "outputs": [],
   "source": []
  }
 ],
 "metadata": {
  "kernelspec": {
   "display_name": "Python 3",
   "language": "python",
   "name": "python3"
  },
  "language_info": {
   "codemirror_mode": {
    "name": "ipython",
    "version": 3
   },
   "file_extension": ".py",
   "mimetype": "text/x-python",
   "name": "python",
   "nbconvert_exporter": "python",
   "pygments_lexer": "ipython3",
   "version": "3.6.4"
  }
 },
 "nbformat": 4,
 "nbformat_minor": 2
}
