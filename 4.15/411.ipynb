{
 "cells": [
  {
   "cell_type": "code",
   "execution_count": 1,
   "metadata": {},
   "outputs": [],
   "source": [
    "import seaborn as sns\n",
    "import pandas as pd\n",
    "import matplotlib.pylab as plt\n",
    "import numpy as np"
   ]
  },
  {
   "cell_type": "code",
   "execution_count": 2,
   "metadata": {},
   "outputs": [],
   "source": [
    "iter_by_method = pd.DataFrame()"
   ]
  },
  {
   "cell_type": "code",
   "execution_count": 3,
   "metadata": {},
   "outputs": [],
   "source": [
    "name_of_methods = ['GD', 'GDM', 'NAG', 'SGD', 'Fl.-Reev.', 'Pol.-Rib.', 'AdaGrad', 'RMSProp',\\\n",
    "                       'Adam', 'AdaDelta', 'Rprop', 'LM', 'BFGS', 'Stohastic']\n",
    "amounts_of_iter = [5000, 3772, 3714, 648, 424, 204, 5000, 625, 5000, 1790, 897, 245, 829,\\\n",
    "                        5000]\n",
    "learning_loss = [0.123, 0.133, 0.133, 0.128, 0.121, 0.123, 0.124, 0.126, 0.254, 0.361, 0.117, 0.4, 0.111, 0.12]\n",
    "\n",
    "test_loss = [0.121, 0.133, 0.13, 0.114, 0.112, 0.111, 0.121, 0.126, 0.251, 0.138, 0.109, 0.39, 0.107, 0.121]\n"
   ]
  },
  {
   "cell_type": "code",
   "execution_count": 4,
   "metadata": {},
   "outputs": [],
   "source": [
    "iter_by_method = iter_by_method.from_dict({'Method': name_of_methods, 'Amount of iter' :amounts_of_iter,\\\n",
    "                                          'Learn loss': learning_loss, 'Test loss': test_loss})"
   ]
  },
  {
   "cell_type": "code",
   "execution_count": 5,
   "metadata": {},
   "outputs": [
    {
     "data": {
      "text/html": [
       "<div>\n",
       "<style scoped>\n",
       "    .dataframe tbody tr th:only-of-type {\n",
       "        vertical-align: middle;\n",
       "    }\n",
       "\n",
       "    .dataframe tbody tr th {\n",
       "        vertical-align: top;\n",
       "    }\n",
       "\n",
       "    .dataframe thead th {\n",
       "        text-align: right;\n",
       "    }\n",
       "</style>\n",
       "<table border=\"1\" class=\"dataframe\">\n",
       "  <thead>\n",
       "    <tr style=\"text-align: right;\">\n",
       "      <th></th>\n",
       "      <th>Amount of iter</th>\n",
       "      <th>Learn loss</th>\n",
       "      <th>Method</th>\n",
       "      <th>Test loss</th>\n",
       "    </tr>\n",
       "  </thead>\n",
       "  <tbody>\n",
       "    <tr>\n",
       "      <th>0</th>\n",
       "      <td>5000</td>\n",
       "      <td>0.123</td>\n",
       "      <td>GD</td>\n",
       "      <td>0.121</td>\n",
       "    </tr>\n",
       "    <tr>\n",
       "      <th>1</th>\n",
       "      <td>3772</td>\n",
       "      <td>0.133</td>\n",
       "      <td>GDM</td>\n",
       "      <td>0.133</td>\n",
       "    </tr>\n",
       "    <tr>\n",
       "      <th>2</th>\n",
       "      <td>3714</td>\n",
       "      <td>0.133</td>\n",
       "      <td>NAG</td>\n",
       "      <td>0.130</td>\n",
       "    </tr>\n",
       "    <tr>\n",
       "      <th>3</th>\n",
       "      <td>648</td>\n",
       "      <td>0.128</td>\n",
       "      <td>SGD</td>\n",
       "      <td>0.114</td>\n",
       "    </tr>\n",
       "    <tr>\n",
       "      <th>4</th>\n",
       "      <td>424</td>\n",
       "      <td>0.121</td>\n",
       "      <td>Fl.-Reev.</td>\n",
       "      <td>0.112</td>\n",
       "    </tr>\n",
       "    <tr>\n",
       "      <th>5</th>\n",
       "      <td>204</td>\n",
       "      <td>0.123</td>\n",
       "      <td>Pol.-Rib.</td>\n",
       "      <td>0.111</td>\n",
       "    </tr>\n",
       "    <tr>\n",
       "      <th>6</th>\n",
       "      <td>5000</td>\n",
       "      <td>0.124</td>\n",
       "      <td>AdaGrad</td>\n",
       "      <td>0.121</td>\n",
       "    </tr>\n",
       "    <tr>\n",
       "      <th>7</th>\n",
       "      <td>625</td>\n",
       "      <td>0.126</td>\n",
       "      <td>RMSProp</td>\n",
       "      <td>0.126</td>\n",
       "    </tr>\n",
       "    <tr>\n",
       "      <th>8</th>\n",
       "      <td>5000</td>\n",
       "      <td>0.254</td>\n",
       "      <td>Adam</td>\n",
       "      <td>0.251</td>\n",
       "    </tr>\n",
       "    <tr>\n",
       "      <th>9</th>\n",
       "      <td>1790</td>\n",
       "      <td>0.361</td>\n",
       "      <td>AdaDelta</td>\n",
       "      <td>0.138</td>\n",
       "    </tr>\n",
       "    <tr>\n",
       "      <th>10</th>\n",
       "      <td>897</td>\n",
       "      <td>0.117</td>\n",
       "      <td>Rprop</td>\n",
       "      <td>0.109</td>\n",
       "    </tr>\n",
       "    <tr>\n",
       "      <th>11</th>\n",
       "      <td>245</td>\n",
       "      <td>0.400</td>\n",
       "      <td>LM</td>\n",
       "      <td>0.390</td>\n",
       "    </tr>\n",
       "    <tr>\n",
       "      <th>12</th>\n",
       "      <td>829</td>\n",
       "      <td>0.111</td>\n",
       "      <td>BFGS</td>\n",
       "      <td>0.107</td>\n",
       "    </tr>\n",
       "    <tr>\n",
       "      <th>13</th>\n",
       "      <td>5000</td>\n",
       "      <td>0.120</td>\n",
       "      <td>Stohastic</td>\n",
       "      <td>0.121</td>\n",
       "    </tr>\n",
       "  </tbody>\n",
       "</table>\n",
       "</div>"
      ],
      "text/plain": [
       "    Amount of iter  Learn loss     Method  Test loss\n",
       "0             5000       0.123         GD      0.121\n",
       "1             3772       0.133        GDM      0.133\n",
       "2             3714       0.133        NAG      0.130\n",
       "3              648       0.128        SGD      0.114\n",
       "4              424       0.121  Fl.-Reev.      0.112\n",
       "5              204       0.123  Pol.-Rib.      0.111\n",
       "6             5000       0.124    AdaGrad      0.121\n",
       "7              625       0.126    RMSProp      0.126\n",
       "8             5000       0.254       Adam      0.251\n",
       "9             1790       0.361   AdaDelta      0.138\n",
       "10             897       0.117      Rprop      0.109\n",
       "11             245       0.400         LM      0.390\n",
       "12             829       0.111       BFGS      0.107\n",
       "13            5000       0.120  Stohastic      0.121"
      ]
     },
     "execution_count": 5,
     "metadata": {},
     "output_type": "execute_result"
    }
   ],
   "source": [
    "iter_by_method"
   ]
  },
  {
   "cell_type": "code",
   "execution_count": 6,
   "metadata": {},
   "outputs": [
    {
     "data": {
      "image/png": "[encoded data removed]",
      "text/plain": [
       "<matplotlib.figure.Figure at 0x7f1460b9d710>"
      ]
     },
     "metadata": {},
     "output_type": "display_data"
    }
   ],
   "source": [
    "plt.figure(figsize=(15,7))\n",
    "sns.barplot(x='Method', y='Amount of iter', errwidth=0, data=iter_by_method)\n",
    "plt.title('amount of iter by methods')\n",
    "plt.savefig('amount_of_iter_and_methods.png', bbox_inches='tight')"
   ]
  },
  {
   "cell_type": "code",
   "execution_count": 7,
   "metadata": {},
   "outputs": [
    {
     "name": "stdout",
     "output_type": "stream",
     "text": [
      "14\n",
      "14\n",
      "14\n"
     ]
    }
   ],
   "source": [
    "n_methods = len(name_of_methods)\n",
    "index = np.arange(n_methods)\n",
    "bar_width = 0.25\n",
    "opacity = 0.8\n",
    "print(n_methods)\n",
    "print(len(learning_loss))\n",
    "print(len(test_loss))"
   ]
  },
  {
   "cell_type": "code",
   "execution_count": 8,
   "metadata": {},
   "outputs": [
    {
     "data": {
      "image/png": "[encoded data removed]",
      "text/plain": [
       "<matplotlib.figure.Figure at 0x7f1456dc46d8>"
      ]
     },
     "metadata": {},
     "output_type": "display_data"
    }
   ],
   "source": [
    "plt.figure(figsize=(15, 7))\n",
    "\n",
    "colors = plt.cm.bwr_r(np.linspace(0, 0, len(name_of_methods)))\n",
    "rects1 = plt.bar(index, test_loss, bar_width,\n",
    "                 alpha=opacity,\n",
    "                 color=colors,\n",
    "                 label='Test loss')\n",
    "\n",
    "colors = plt.cm.Blues_r(np.linspace(0, 0, len(name_of_methods)))\n",
    "rects2 = plt.bar(index + bar_width, learning_loss, bar_width,\n",
    "                 alpha=opacity,\n",
    "                 color=colors,\n",
    "                 label='Learn loss')\n",
    " \n",
    "plt.xlabel('Method')\n",
    "plt.ylabel('loss')\n",
    "plt.title('Loss and methods')\n",
    "plt.xticks(index + bar_width, name_of_methods)\n",
    "plt.legend()\n",
    " \n",
    "plt.tight_layout()\n",
    "plt.savefig('loss_and_methods.png', bbox_inches='tight')"
   ]
  },
  {
   "cell_type": "code",
   "execution_count": null,
   "metadata": {},
   "outputs": [],
   "source": []
  }
 ],
 "metadata": {
  "kernelspec": {
   "display_name": "Python 3",
   "language": "python",
   "name": "python3"
  },
  "language_info": {
   "codemirror_mode": {
    "name": "ipython",
    "version": 3
   },
   "file_extension": ".py",
   "mimetype": "text/x-python",
   "name": "python",
   "nbconvert_exporter": "python",
   "pygments_lexer": "ipython3",
   "version": "3.6.4"
  }
 },
 "nbformat": 4,
 "nbformat_minor": 2
}
